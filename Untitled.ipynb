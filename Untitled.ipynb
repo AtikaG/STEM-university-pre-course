{
 "cells": [
  {
   "cell_type": "code",
   "execution_count": 3,
   "metadata": {},
   "outputs": [
    {
     "name": "stdout",
     "output_type": "stream",
     "text": [
      "<class 'numpy.ndarray'>\n",
      "[31.36094675 29.12976442 29.41975607 24.47091413 29.52608471 45.24949877\n",
      " 30.63773833 29.52418516 25.51584102 17.98169078]\n"
     ]
    },
    {
     "data": {
      "text/plain": [
       "array([31.36094675, 29.12976442, 29.41975607, 29.52608471, 45.24949877,\n",
       "       30.63773833, 29.52418516])"
      ]
     },
     "execution_count": 3,
     "metadata": {},
     "output_type": "execute_result"
    }
   ],
   "source": [
    "#Numpy Arrays\n",
    "#these are great alternatives to python lists\n",
    "# The key advantages are that they are fast, easy to work with and give users an opportunity to perform calculations across\n",
    "# entire arrays\n",
    "\n",
    "\n",
    "# Create 2 arrays - weight and height \n",
    "height = [1.56, 1.67, 1.82, 1.90, 1.76, 1.34, 1.56, 1.67, 1.83, 1.93]\n",
    "weight = [76.32, 81.24, 97.45, 88.34, 91.46, 81.25, 74.56, 82.34, 85.45, 66.98]\n",
    "\n",
    "#import numpy package\n",
    "import numpy as np\n",
    "\n",
    "#createboth arrays in numpy from height and weight\n",
    "np_height = np.array(height)\n",
    "np_weight = np.array(weight)\n",
    "print(type(np_height))\n",
    "\n",
    "#Element.wise calculations\n",
    "bmi = np_weight / np_height ** 2\n",
    "print(bmi)\n",
    "\n",
    "#Subsetting\n",
    "bmi > 29\n",
    "bmi [bmi > 29]"
   ]
  },
  {
   "cell_type": "code",
   "execution_count": 5,
   "metadata": {},
   "outputs": [
    {
     "name": "stdout",
     "output_type": "stream",
     "text": [
      "   university      location     area  population\n",
      "0       riara  Mbagathi Way  125.456         400\n",
      "1  strathmore      Madaraka  320.376         934\n",
      "2        CUEA        Rongai  156.890         450\n",
      "3    Nazarene           CBO   95.392         320\n",
      "4     Daystar     Upperhill  245.430         765\n",
      "    university      location     area  population\n",
      "RI       riara  Mbagathi Way  125.456         400\n",
      "ST  strathmore      Madaraka  320.376         934\n",
      "CA        CUEA        Rongai  156.890         450\n",
      "NZ    Nazarene           CBO   95.392         320\n",
      "DS     Daystar     Upperhill  245.430         765\n"
     ]
    }
   ],
   "source": [
    "#Panda basics\n",
    "# This is a high level data manipulation tool built on numpy package and its key data \n",
    "# structure is called DataFrame which allows you to store and manipulate tabular data in rows of observations and columns of \n",
    "# variation\n",
    "\n",
    "#There are differentways of creating DataFrames- One using dictionaries\n",
    "uni_dict = {\n",
    "    \"university\" : [\"riara\", \"strathmore\", \"CUEA\", \"Nazarene\", \"Daystar\"],\n",
    "    \"location\" : [\"Mbagathi Way\", \"Madaraka\", \"Rongai\", \"CBO\", \"Upperhill\"],\n",
    "    \"area\" : [125.456, 320.376, 156.89, 95.392, 245.43],\n",
    "    \"population\" : [400, 934, 450, 320, 765]\n",
    "}\n",
    "\n",
    "#Using pandas\n",
    "import pandas as pd\n",
    "dints = pd.DataFrame(uni_dict)\n",
    "print(dints)\n",
    "\n",
    "#We can rename the indexes so that instead of 0 - 4 we have initials\n",
    "dints.index = [\"RI\", \"ST\", \"CA\",\"NZ\", \"DS\"]\n",
    "print(dints)"
   ]
  },
  {
   "cell_type": "code",
   "execution_count": null,
   "metadata": {},
   "outputs": [],
   "source": []
  }
 ],
 "metadata": {
  "kernelspec": {
   "display_name": "Python 3",
   "language": "python",
   "name": "python3"
  },
  "language_info": {
   "codemirror_mode": {
    "name": "ipython",
    "version": 3
   },
   "file_extension": ".py",
   "mimetype": "text/x-python",
   "name": "python",
   "nbconvert_exporter": "python",
   "pygments_lexer": "ipython3",
   "version": "3.7.3"
  }
 },
 "nbformat": 4,
 "nbformat_minor": 2
}
